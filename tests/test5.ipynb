{
 "cells": [
  {
   "cell_type": "code",
   "execution_count": null,
   "id": "a324e537",
   "metadata": {},
   "outputs": [
    {
     "data": {
      "text/latex": [
       "$\\displaystyle \\frac{z \\left(x + y\\right)}{x + 3}$"
      ],
      "text/plain": [
       "z*(x + y)/(x + 3)"
      ]
     },
     "execution_count": 14,
     "metadata": {},
     "output_type": "execute_result"
    }
   ],
   "source": [
    "import sympy as smp\n",
    "from sympy import *\n",
    "\n",
    "x, y, z = smp.symbols('x y z')\n",
    "\n",
    "((x+y)*z)/(x+3)"
   ]
  },
  {
   "cell_type": "code",
   "execution_count": null,
   "id": "21ec30a9",
   "metadata": {},
   "outputs": [
    {
     "data": {
      "text/plain": [
       "[-5/4]"
      ]
     },
     "execution_count": 26,
     "metadata": {},
     "output_type": "execute_result"
    }
   ],
   "source": [
    "import matplotlib.pyplot as plt\n",
    "import numpy as np\n",
    "\n",
    "x = np.linspace(-5,15,10)\n",
    "y1 = (4*x + 5)/2\n",
    "y2 = (3*x + 5)/2\n",
    "\n",
    "\n"
   ]
  }
 ],
 "metadata": {
  "kernelspec": {
   "display_name": "Python 3",
   "language": "python",
   "name": "python3"
  },
  "language_info": {
   "codemirror_mode": {
    "name": "ipython",
    "version": 3
   },
   "file_extension": ".py",
   "mimetype": "text/x-python",
   "name": "python",
   "nbconvert_exporter": "python",
   "pygments_lexer": "ipython3",
   "version": "3.10.12"
  }
 },
 "nbformat": 4,
 "nbformat_minor": 5
}
